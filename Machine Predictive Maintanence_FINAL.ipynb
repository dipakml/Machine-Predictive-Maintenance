{
 "cells": [
  {
   "cell_type": "markdown",
   "id": "a0b795b8",
   "metadata": {},
   "source": [
    "# Machine Predictive Maintenance"
   ]
  },
  {
   "cell_type": "markdown",
   "id": "fe22dafe",
   "metadata": {},
   "source": [
    "Dataset Reference: https://archive.ics.uci.edu/ml/datasets/AI4I+2020+Predictive+Maintenance+Dataset"
   ]
  },
  {
   "cell_type": "markdown",
   "id": "dc7e2290",
   "metadata": {},
   "source": [
    "Attribute Information:\n",
    "\n",
    "The dataset consists of 10 000 data points stored as rows with 14 features in columns\n",
    "UID: unique identifier ranging from 1 to 10000\n",
    "product ID: consisting of a letter L, M, or H for low (50% of all products), medium (30%) and high (20%) as product quality variants and a variant-specific serial number\n",
    "air temperature [K]: generated using a random walk process later normalized to a standard deviation of 2 K around 300 K\n",
    "process temperature [K]: generated using a random walk process normalized to a standard deviation of 1 K, added to the air temperature plus 10 K.\n",
    "rotational speed [rpm]: calculated from a power of 2860 W, overlaid with a normally distributed noise\n",
    "torque [Nm]: torque values are normally distributed around 40 Nm with a Ïƒ = 10 Nm and no negative values.\n",
    "tool wear [min]: The quality variants H/M/L add 5/3/2 minutes of tool wear to the used tool in the process. and a\n",
    "'machine failure' label that indicates, whether the machine has failed in this particular datapoint for any of the following failure modes are true.\n",
    "\n",
    "The machine failure consists of five independent failure modes\n",
    "tool wear failure (TWF): the tool will be replaced of fail at a randomly selected tool wear time between 200 â€“ 240 mins (120 times in our dataset). At this point in time, the tool is replaced 69 times, and fails 51 times (randomly assigned).\n",
    "heat dissipation failure (HDF): heat dissipation causes a process failure, if the difference between air- and process temperature is below 8.6 K and the toolâ€™s rotational speed is below 1380 rpm. This is the case for 115 data points.\n",
    "power failure (PWF): the product of torque and rotational speed (in rad/s) equals the power required for the process. If this power is below 3500 W or above 9000 W, the process fails, which is the case 95 times in our dataset.\n",
    "overstrain failure (OSF): if the product of tool wear and torque exceeds 11,000 minNm for the L product variant (12,000 M, 13,000 H), the process fails due to overstrain. This is true for 98 datapoints.\n",
    "random failures (RNF): each process has a chance of 0,1 % to fail regardless of its process parameters. This is the case for only 5 datapoints, less than could be expected for 10,000 datapoints in our dataset.\n",
    "\n",
    "If at least one of the above failure modes is true, the process fails and the 'machine failure' label is set to 1. It is therefore not transparent to the machine learning method, which of the failure modes has caused the process to fail"
   ]
  },
  {
   "cell_type": "code",
   "execution_count": 371,
   "id": "bbba05d6",
   "metadata": {},
   "outputs": [],
   "source": [
    "import numpy as np\n",
    "import pandas as pd\n",
    "import matplotlib.pyplot as plt\n",
    "%matplotlib inline\n",
    "import seaborn as sns\n",
    "from sklearn.linear_model import LogisticRegression\n",
    "from sklearn.ensemble import RandomForestClassifier\n",
    "from sklearn.tree import DecisionTreeClassifier\n",
    "from sklearn.naive_bayes import GaussianNB\n",
    "from sklearn.naive_bayes import MultinomialNB\n",
    "from sklearn import svm\n",
    "\n",
    "import warnings\n",
    "warnings.filterwarnings('ignore') "
   ]
  },
  {
   "cell_type": "code",
   "execution_count": 372,
   "id": "7a675f1a",
   "metadata": {},
   "outputs": [],
   "source": [
    "df=pd.read_csv('predictive_maintenance.csv')"
   ]
  },
  {
   "cell_type": "code",
   "execution_count": 373,
   "id": "348175d5",
   "metadata": {},
   "outputs": [
    {
     "data": {
      "text/html": [
       "<div>\n",
       "<style scoped>\n",
       "    .dataframe tbody tr th:only-of-type {\n",
       "        vertical-align: middle;\n",
       "    }\n",
       "\n",
       "    .dataframe tbody tr th {\n",
       "        vertical-align: top;\n",
       "    }\n",
       "\n",
       "    .dataframe thead th {\n",
       "        text-align: right;\n",
       "    }\n",
       "</style>\n",
       "<table border=\"1\" class=\"dataframe\">\n",
       "  <thead>\n",
       "    <tr style=\"text-align: right;\">\n",
       "      <th></th>\n",
       "      <th>UDI</th>\n",
       "      <th>Product ID</th>\n",
       "      <th>Type</th>\n",
       "      <th>Air temperature [K]</th>\n",
       "      <th>Process temperature [K]</th>\n",
       "      <th>Rotational speed [rpm]</th>\n",
       "      <th>Torque [Nm]</th>\n",
       "      <th>Tool wear [min]</th>\n",
       "      <th>Target</th>\n",
       "      <th>Failure Type</th>\n",
       "    </tr>\n",
       "  </thead>\n",
       "  <tbody>\n",
       "    <tr>\n",
       "      <th>0</th>\n",
       "      <td>1</td>\n",
       "      <td>M14860</td>\n",
       "      <td>M</td>\n",
       "      <td>298.1</td>\n",
       "      <td>308.6</td>\n",
       "      <td>1551</td>\n",
       "      <td>42.8</td>\n",
       "      <td>0</td>\n",
       "      <td>0</td>\n",
       "      <td>No Failure</td>\n",
       "    </tr>\n",
       "    <tr>\n",
       "      <th>1</th>\n",
       "      <td>2</td>\n",
       "      <td>L47181</td>\n",
       "      <td>L</td>\n",
       "      <td>298.2</td>\n",
       "      <td>308.7</td>\n",
       "      <td>1408</td>\n",
       "      <td>46.3</td>\n",
       "      <td>3</td>\n",
       "      <td>0</td>\n",
       "      <td>No Failure</td>\n",
       "    </tr>\n",
       "    <tr>\n",
       "      <th>2</th>\n",
       "      <td>3</td>\n",
       "      <td>L47182</td>\n",
       "      <td>L</td>\n",
       "      <td>298.1</td>\n",
       "      <td>308.5</td>\n",
       "      <td>1498</td>\n",
       "      <td>49.4</td>\n",
       "      <td>5</td>\n",
       "      <td>0</td>\n",
       "      <td>No Failure</td>\n",
       "    </tr>\n",
       "    <tr>\n",
       "      <th>3</th>\n",
       "      <td>4</td>\n",
       "      <td>L47183</td>\n",
       "      <td>L</td>\n",
       "      <td>298.2</td>\n",
       "      <td>308.6</td>\n",
       "      <td>1433</td>\n",
       "      <td>39.5</td>\n",
       "      <td>7</td>\n",
       "      <td>0</td>\n",
       "      <td>No Failure</td>\n",
       "    </tr>\n",
       "    <tr>\n",
       "      <th>4</th>\n",
       "      <td>5</td>\n",
       "      <td>L47184</td>\n",
       "      <td>L</td>\n",
       "      <td>298.2</td>\n",
       "      <td>308.7</td>\n",
       "      <td>1408</td>\n",
       "      <td>40.0</td>\n",
       "      <td>9</td>\n",
       "      <td>0</td>\n",
       "      <td>No Failure</td>\n",
       "    </tr>\n",
       "  </tbody>\n",
       "</table>\n",
       "</div>"
      ],
      "text/plain": [
       "   UDI Product ID Type  Air temperature [K]  Process temperature [K]  \\\n",
       "0    1     M14860    M                298.1                    308.6   \n",
       "1    2     L47181    L                298.2                    308.7   \n",
       "2    3     L47182    L                298.1                    308.5   \n",
       "3    4     L47183    L                298.2                    308.6   \n",
       "4    5     L47184    L                298.2                    308.7   \n",
       "\n",
       "   Rotational speed [rpm]  Torque [Nm]  Tool wear [min]  Target Failure Type  \n",
       "0                    1551         42.8                0       0   No Failure  \n",
       "1                    1408         46.3                3       0   No Failure  \n",
       "2                    1498         49.4                5       0   No Failure  \n",
       "3                    1433         39.5                7       0   No Failure  \n",
       "4                    1408         40.0                9       0   No Failure  "
      ]
     },
     "execution_count": 373,
     "metadata": {},
     "output_type": "execute_result"
    }
   ],
   "source": [
    "df.head()"
   ]
  },
  {
   "cell_type": "code",
   "execution_count": 374,
   "id": "e7cb7f51",
   "metadata": {},
   "outputs": [],
   "source": [
    "df.drop(['UDI','Product ID'],axis=1,inplace=True)"
   ]
  },
  {
   "cell_type": "code",
   "execution_count": 375,
   "id": "9f1166e0",
   "metadata": {},
   "outputs": [
    {
     "data": {
      "text/plain": [
       "(10000, 8)"
      ]
     },
     "execution_count": 375,
     "metadata": {},
     "output_type": "execute_result"
    }
   ],
   "source": [
    "df.shape"
   ]
  },
  {
   "cell_type": "code",
   "execution_count": 376,
   "id": "9ea51894",
   "metadata": {},
   "outputs": [
    {
     "name": "stdout",
     "output_type": "stream",
     "text": [
      "<class 'pandas.core.frame.DataFrame'>\n",
      "RangeIndex: 10000 entries, 0 to 9999\n",
      "Data columns (total 8 columns):\n",
      " #   Column                   Non-Null Count  Dtype  \n",
      "---  ------                   --------------  -----  \n",
      " 0   Type                     10000 non-null  object \n",
      " 1   Air temperature [K]      10000 non-null  float64\n",
      " 2   Process temperature [K]  10000 non-null  float64\n",
      " 3   Rotational speed [rpm]   10000 non-null  int64  \n",
      " 4   Torque [Nm]              10000 non-null  float64\n",
      " 5   Tool wear [min]          10000 non-null  int64  \n",
      " 6   Target                   10000 non-null  int64  \n",
      " 7   Failure Type             10000 non-null  object \n",
      "dtypes: float64(3), int64(3), object(2)\n",
      "memory usage: 625.1+ KB\n"
     ]
    }
   ],
   "source": [
    "df.info()"
   ]
  },
  {
   "cell_type": "code",
   "execution_count": 377,
   "id": "c5a44986",
   "metadata": {},
   "outputs": [
    {
     "data": {
      "text/html": [
       "<div>\n",
       "<style scoped>\n",
       "    .dataframe tbody tr th:only-of-type {\n",
       "        vertical-align: middle;\n",
       "    }\n",
       "\n",
       "    .dataframe tbody tr th {\n",
       "        vertical-align: top;\n",
       "    }\n",
       "\n",
       "    .dataframe thead th {\n",
       "        text-align: right;\n",
       "    }\n",
       "</style>\n",
       "<table border=\"1\" class=\"dataframe\">\n",
       "  <thead>\n",
       "    <tr style=\"text-align: right;\">\n",
       "      <th></th>\n",
       "      <th>Type</th>\n",
       "      <th>Air_temperature_K</th>\n",
       "      <th>Process_temperature_K</th>\n",
       "      <th>Rotational_speed_rpm</th>\n",
       "      <th>Torque_Nm</th>\n",
       "      <th>Tool_wear_min</th>\n",
       "      <th>Target</th>\n",
       "      <th>Failure_Type</th>\n",
       "    </tr>\n",
       "  </thead>\n",
       "  <tbody>\n",
       "    <tr>\n",
       "      <th>0</th>\n",
       "      <td>M</td>\n",
       "      <td>298.1</td>\n",
       "      <td>308.6</td>\n",
       "      <td>1551</td>\n",
       "      <td>42.8</td>\n",
       "      <td>0</td>\n",
       "      <td>0</td>\n",
       "      <td>No Failure</td>\n",
       "    </tr>\n",
       "    <tr>\n",
       "      <th>1</th>\n",
       "      <td>L</td>\n",
       "      <td>298.2</td>\n",
       "      <td>308.7</td>\n",
       "      <td>1408</td>\n",
       "      <td>46.3</td>\n",
       "      <td>3</td>\n",
       "      <td>0</td>\n",
       "      <td>No Failure</td>\n",
       "    </tr>\n",
       "    <tr>\n",
       "      <th>2</th>\n",
       "      <td>L</td>\n",
       "      <td>298.1</td>\n",
       "      <td>308.5</td>\n",
       "      <td>1498</td>\n",
       "      <td>49.4</td>\n",
       "      <td>5</td>\n",
       "      <td>0</td>\n",
       "      <td>No Failure</td>\n",
       "    </tr>\n",
       "    <tr>\n",
       "      <th>3</th>\n",
       "      <td>L</td>\n",
       "      <td>298.2</td>\n",
       "      <td>308.6</td>\n",
       "      <td>1433</td>\n",
       "      <td>39.5</td>\n",
       "      <td>7</td>\n",
       "      <td>0</td>\n",
       "      <td>No Failure</td>\n",
       "    </tr>\n",
       "    <tr>\n",
       "      <th>4</th>\n",
       "      <td>L</td>\n",
       "      <td>298.2</td>\n",
       "      <td>308.7</td>\n",
       "      <td>1408</td>\n",
       "      <td>40.0</td>\n",
       "      <td>9</td>\n",
       "      <td>0</td>\n",
       "      <td>No Failure</td>\n",
       "    </tr>\n",
       "  </tbody>\n",
       "</table>\n",
       "</div>"
      ],
      "text/plain": [
       "  Type  Air_temperature_K  Process_temperature_K  Rotational_speed_rpm  \\\n",
       "0    M              298.1                  308.6                  1551   \n",
       "1    L              298.2                  308.7                  1408   \n",
       "2    L              298.1                  308.5                  1498   \n",
       "3    L              298.2                  308.6                  1433   \n",
       "4    L              298.2                  308.7                  1408   \n",
       "\n",
       "   Torque_Nm  Tool_wear_min  Target Failure_Type  \n",
       "0       42.8              0       0   No Failure  \n",
       "1       46.3              3       0   No Failure  \n",
       "2       49.4              5       0   No Failure  \n",
       "3       39.5              7       0   No Failure  \n",
       "4       40.0              9       0   No Failure  "
      ]
     },
     "execution_count": 377,
     "metadata": {},
     "output_type": "execute_result"
    }
   ],
   "source": [
    "df.rename({'Air temperature [K]': 'Air_temperature_K','Process temperature [K]': 'Process_temperature_K','Rotational speed [rpm]': 'Rotational_speed_rpm','Torque [Nm]': 'Torque_Nm','Tool wear [min]': 'Tool_wear_min','Failure Type': 'Failure_Type'}, axis=1, inplace=True)\n",
    "df.head()"
   ]
  },
  {
   "cell_type": "code",
   "execution_count": 378,
   "id": "7aa60779",
   "metadata": {},
   "outputs": [
    {
     "data": {
      "text/plain": [
       "Type                     0.0\n",
       "Air_temperature_K        0.0\n",
       "Process_temperature_K    0.0\n",
       "Rotational_speed_rpm     0.0\n",
       "Torque_Nm                0.0\n",
       "Tool_wear_min            0.0\n",
       "Target                   0.0\n",
       "Failure_Type             0.0\n",
       "dtype: float64"
      ]
     },
     "execution_count": 378,
     "metadata": {},
     "output_type": "execute_result"
    }
   ],
   "source": [
    "df.isnull().sum()* 100 / len(df) #% null values in columns"
   ]
  },
  {
   "cell_type": "code",
   "execution_count": 379,
   "id": "78543c2f",
   "metadata": {},
   "outputs": [
    {
     "data": {
      "image/png": "[encoded data removed]",
      "text/plain": [
       "<Figure size 432x288 with 1 Axes>"
      ]
     },
     "metadata": {
      "needs_background": "light"
     },
     "output_type": "display_data"
    },
    {
     "data": {
      "image/png": "[encoded data removed]",
      "text/plain": [
       "<Figure size 1008x504 with 2 Axes>"
      ]
     },
     "metadata": {
      "needs_background": "light"
     },
     "output_type": "display_data"
    }
   ],
   "source": [
    "#Distribution of Target Variable\n",
    "sns.countplot(df['Target'],data=df)\n",
    "\n",
    "# plotting to create pie chart and bar plot as subplots\n",
    "plt.figure(figsize=(14,7))\n",
    "plt.subplot(121)\n",
    "\n",
    "df[\"Target\"].value_counts().plot.pie(autopct = \"%1.0f%%\",colors = sns.color_palette(\"prism\",7),startangle = 60,labels=[\"Negative\",\"Positive\"],\n",
    "wedgeprops={\"linewidth\":2,\"edgecolor\":\"k\"},explode=[.1,0],shadow =True)\n",
    "plt.title(\"Distribution of Target  Variable\")\n",
    "\n",
    "plt.subplot(122)\n",
    "ax = df[\"Target\"].value_counts().plot(kind=\"barh\")\n",
    "\n",
    "for i,j in enumerate(df[\"Target\"].value_counts().values):\n",
    "    ax.text(.7,i,j,weight = \"bold\",fontsize=20)\n",
    "\n",
    "plt.title(\"Count of Target Variable\")\n",
    "plt.show()"
   ]
  },
  {
   "cell_type": "code",
   "execution_count": 380,
   "id": "3273507f",
   "metadata": {},
   "outputs": [
    {
     "data": {
      "text/plain": [
       "(-1.217584817483659,\n",
       " 1.2097676237996229,\n",
       " -1.0974527060610335,\n",
       " 1.116602355989525)"
      ]
     },
     "execution_count": 380,
     "metadata": {},
     "output_type": "execute_result"
    },
    {
     "data": {
      "image/png": "[encoded data removed]",
      "text/plain": [
       "<Figure size 2880x1440 with 2 Axes>"
      ]
     },
     "metadata": {
      "needs_background": "light"
     },
     "output_type": "display_data"
    }
   ],
   "source": [
    "plt.figure(figsize=(40,20))\n",
    "\n",
    "plt.subplot(3,4,1)\n",
    "sns.countplot(df.Target)\n",
    "plt.title('Target') \n",
    "plt.subplot(3,4,2)\n",
    "Target = df.Target.value_counts()\n",
    "plt.pie(Target,explode=[0.1,0.1],autopct='%0.2f%%',shadow=True,labels=Target.index)\n",
    "plt.title('Target')\n",
    "plt.axis('equal')\n"
   ]
  },
  {
   "cell_type": "code",
   "execution_count": 381,
   "id": "3ccacbb1",
   "metadata": {},
   "outputs": [
    {
     "data": {
      "text/plain": [
       "Text(0.5, 1.0, 'Failure_Type')"
      ]
     },
     "execution_count": 381,
     "metadata": {},
     "output_type": "execute_result"
    },
    {
     "data": {
      "image/png": "[encoded data removed]",
      "text/plain": [
       "<Figure size 4320x1440 with 1 Axes>"
      ]
     },
     "metadata": {
      "needs_background": "light"
     },
     "output_type": "display_data"
    }
   ],
   "source": [
    "plt.figure(figsize=(60,20))\n",
    "\n",
    "plt.subplot(3,4,3)\n",
    "sns.countplot(df.Failure_Type,hue=df.Failure_Type)\n",
    "plt.title('Failure_Type') \n"
   ]
  },
  {
   "cell_type": "code",
   "execution_count": 382,
   "id": "c49db566",
   "metadata": {},
   "outputs": [
    {
     "data": {
      "text/plain": [
       "(-1.2176220931835324, 1.21036128190381, -1.0969958252765493, 1.116975975713299)"
      ]
     },
     "execution_count": 382,
     "metadata": {},
     "output_type": "execute_result"
    },
    {
     "data": {
      "image/png": "[encoded data removed]",
      "text/plain": [
       "<Figure size 5760x1440 with 1 Axes>"
      ]
     },
     "metadata": {},
     "output_type": "display_data"
    }
   ],
   "source": [
    "plt.figure(figsize=(80,20))\n",
    "plt.subplot(3,4,4)\n",
    "Failure_Type = df.Failure_Type.value_counts()\n",
    "plt.pie(Failure_Type,explode=[0.1,0.1,0.1,0.1,0.1,0.1],autopct='%0.1f%%',shadow=True,labels=Failure_Type.index,rotatelabels=True)\n",
    "plt.title('Failure_Type')\n",
    "plt.axis('equal')"
   ]
  },
  {
   "cell_type": "code",
   "execution_count": 383,
   "id": "31a8430c",
   "metadata": {},
   "outputs": [
    {
     "data": {
      "image/png": "[encoded data removed]",
      "text/plain": [
       "<Figure size 1584x864 with 2 Axes>"
      ]
     },
     "metadata": {
      "needs_background": "light"
     },
     "output_type": "display_data"
    }
   ],
   "source": [
    "matrix = df.corr()\n",
    "mask = np.triu(np.ones_like(matrix,dtype='bool'))\n",
    "\n",
    "plt.figure(figsize=(22,12))\n",
    "sns.heatmap(matrix,mask=mask,annot=True,center=0,fmt='.2f',square=True,cmap=\"coolwarm\")\n",
    "plt.show()"
   ]
  },
  {
   "cell_type": "code",
   "execution_count": 384,
   "id": "37176672",
   "metadata": {},
   "outputs": [
    {
     "data": {
      "text/html": [
       "<div>\n",
       "<style scoped>\n",
       "    .dataframe tbody tr th:only-of-type {\n",
       "        vertical-align: middle;\n",
       "    }\n",
       "\n",
       "    .dataframe tbody tr th {\n",
       "        vertical-align: top;\n",
       "    }\n",
       "\n",
       "    .dataframe thead th {\n",
       "        text-align: right;\n",
       "    }\n",
       "</style>\n",
       "<table border=\"1\" class=\"dataframe\">\n",
       "  <thead>\n",
       "    <tr style=\"text-align: right;\">\n",
       "      <th></th>\n",
       "      <th>Air_temperature_K</th>\n",
       "      <th>Process_temperature_K</th>\n",
       "      <th>Rotational_speed_rpm</th>\n",
       "      <th>Torque_Nm</th>\n",
       "      <th>Tool_wear_min</th>\n",
       "      <th>Target</th>\n",
       "      <th>Failure_Type</th>\n",
       "      <th>Type_L</th>\n",
       "      <th>Type_M</th>\n",
       "    </tr>\n",
       "  </thead>\n",
       "  <tbody>\n",
       "    <tr>\n",
       "      <th>0</th>\n",
       "      <td>298.1</td>\n",
       "      <td>308.6</td>\n",
       "      <td>1551</td>\n",
       "      <td>42.8</td>\n",
       "      <td>0</td>\n",
       "      <td>0</td>\n",
       "      <td>No Failure</td>\n",
       "      <td>0</td>\n",
       "      <td>1</td>\n",
       "    </tr>\n",
       "    <tr>\n",
       "      <th>1</th>\n",
       "      <td>298.2</td>\n",
       "      <td>308.7</td>\n",
       "      <td>1408</td>\n",
       "      <td>46.3</td>\n",
       "      <td>3</td>\n",
       "      <td>0</td>\n",
       "      <td>No Failure</td>\n",
       "      <td>1</td>\n",
       "      <td>0</td>\n",
       "    </tr>\n",
       "    <tr>\n",
       "      <th>2</th>\n",
       "      <td>298.1</td>\n",
       "      <td>308.5</td>\n",
       "      <td>1498</td>\n",
       "      <td>49.4</td>\n",
       "      <td>5</td>\n",
       "      <td>0</td>\n",
       "      <td>No Failure</td>\n",
       "      <td>1</td>\n",
       "      <td>0</td>\n",
       "    </tr>\n",
       "    <tr>\n",
       "      <th>3</th>\n",
       "      <td>298.2</td>\n",
       "      <td>308.6</td>\n",
       "      <td>1433</td>\n",
       "      <td>39.5</td>\n",
       "      <td>7</td>\n",
       "      <td>0</td>\n",
       "      <td>No Failure</td>\n",
       "      <td>1</td>\n",
       "      <td>0</td>\n",
       "    </tr>\n",
       "    <tr>\n",
       "      <th>4</th>\n",
       "      <td>298.2</td>\n",
       "      <td>308.7</td>\n",
       "      <td>1408</td>\n",
       "      <td>40.0</td>\n",
       "      <td>9</td>\n",
       "      <td>0</td>\n",
       "      <td>No Failure</td>\n",
       "      <td>1</td>\n",
       "      <td>0</td>\n",
       "    </tr>\n",
       "  </tbody>\n",
       "</table>\n",
       "</div>"
      ],
      "text/plain": [
       "   Air_temperature_K  Process_temperature_K  Rotational_speed_rpm  Torque_Nm  \\\n",
       "0              298.1                  308.6                  1551       42.8   \n",
       "1              298.2                  308.7                  1408       46.3   \n",
       "2              298.1                  308.5                  1498       49.4   \n",
       "3              298.2                  308.6                  1433       39.5   \n",
       "4              298.2                  308.7                  1408       40.0   \n",
       "\n",
       "   Tool_wear_min  Target Failure_Type  Type_L  Type_M  \n",
       "0              0       0   No Failure       0       1  \n",
       "1              3       0   No Failure       1       0  \n",
       "2              5       0   No Failure       1       0  \n",
       "3              7       0   No Failure       1       0  \n",
       "4              9       0   No Failure       1       0  "
      ]
     },
     "execution_count": 384,
     "metadata": {},
     "output_type": "execute_result"
    }
   ],
   "source": [
    "df = pd.get_dummies(data=df, columns=['Type'],drop_first=True)\n",
    "df.head()"
   ]
  },
  {
   "cell_type": "markdown",
   "id": "00d47286",
   "metadata": {},
   "source": [
    "# Analysis1-Prediction for Target class(Failure or no failure- Binary Classification)"
   ]
  },
  {
   "cell_type": "code",
   "execution_count": 385,
   "id": "616dbae6",
   "metadata": {},
   "outputs": [
    {
     "data": {
      "text/html": [
       "<div>\n",
       "<style scoped>\n",
       "    .dataframe tbody tr th:only-of-type {\n",
       "        vertical-align: middle;\n",
       "    }\n",
       "\n",
       "    .dataframe tbody tr th {\n",
       "        vertical-align: top;\n",
       "    }\n",
       "\n",
       "    .dataframe thead th {\n",
       "        text-align: right;\n",
       "    }\n",
       "</style>\n",
       "<table border=\"1\" class=\"dataframe\">\n",
       "  <thead>\n",
       "    <tr style=\"text-align: right;\">\n",
       "      <th></th>\n",
       "      <th>Air_temperature_K</th>\n",
       "      <th>Process_temperature_K</th>\n",
       "      <th>Rotational_speed_rpm</th>\n",
       "      <th>Torque_Nm</th>\n",
       "      <th>Tool_wear_min</th>\n",
       "      <th>Type_L</th>\n",
       "      <th>Type_M</th>\n",
       "    </tr>\n",
       "  </thead>\n",
       "  <tbody>\n",
       "    <tr>\n",
       "      <th>0</th>\n",
       "      <td>298.1</td>\n",
       "      <td>308.6</td>\n",
       "      <td>1551</td>\n",
       "      <td>42.8</td>\n",
       "      <td>0</td>\n",
       "      <td>0</td>\n",
       "      <td>1</td>\n",
       "    </tr>\n",
       "    <tr>\n",
       "      <th>1</th>\n",
       "      <td>298.2</td>\n",
       "      <td>308.7</td>\n",
       "      <td>1408</td>\n",
       "      <td>46.3</td>\n",
       "      <td>3</td>\n",
       "      <td>1</td>\n",
       "      <td>0</td>\n",
       "    </tr>\n",
       "    <tr>\n",
       "      <th>2</th>\n",
       "      <td>298.1</td>\n",
       "      <td>308.5</td>\n",
       "      <td>1498</td>\n",
       "      <td>49.4</td>\n",
       "      <td>5</td>\n",
       "      <td>1</td>\n",
       "      <td>0</td>\n",
       "    </tr>\n",
       "    <tr>\n",
       "      <th>3</th>\n",
       "      <td>298.2</td>\n",
       "      <td>308.6</td>\n",
       "      <td>1433</td>\n",
       "      <td>39.5</td>\n",
       "      <td>7</td>\n",
       "      <td>1</td>\n",
       "      <td>0</td>\n",
       "    </tr>\n",
       "    <tr>\n",
       "      <th>4</th>\n",
       "      <td>298.2</td>\n",
       "      <td>308.7</td>\n",
       "      <td>1408</td>\n",
       "      <td>40.0</td>\n",
       "      <td>9</td>\n",
       "      <td>1</td>\n",
       "      <td>0</td>\n",
       "    </tr>\n",
       "  </tbody>\n",
       "</table>\n",
       "</div>"
      ],
      "text/plain": [
       "   Air_temperature_K  Process_temperature_K  Rotational_speed_rpm  Torque_Nm  \\\n",
       "0              298.1                  308.6                  1551       42.8   \n",
       "1              298.2                  308.7                  1408       46.3   \n",
       "2              298.1                  308.5                  1498       49.4   \n",
       "3              298.2                  308.6                  1433       39.5   \n",
       "4              298.2                  308.7                  1408       40.0   \n",
       "\n",
       "   Tool_wear_min  Type_L  Type_M  \n",
       "0              0       0       1  \n",
       "1              3       1       0  \n",
       "2              5       1       0  \n",
       "3              7       1       0  \n",
       "4              9       1       0  "
      ]
     },
     "execution_count": 385,
     "metadata": {},
     "output_type": "execute_result"
    }
   ],
   "source": [
    "X = df.drop(['Target','Failure_Type'],axis=1)\n",
    "  \n",
    "X.head()"
   ]
  },
  {
   "cell_type": "code",
   "execution_count": 386,
   "id": "17f282df",
   "metadata": {},
   "outputs": [
    {
     "data": {
      "text/plain": [
       "(10000, 7)"
      ]
     },
     "execution_count": 386,
     "metadata": {},
     "output_type": "execute_result"
    }
   ],
   "source": [
    "X.shape"
   ]
  },
  {
   "cell_type": "code",
   "execution_count": 387,
   "id": "13dff995",
   "metadata": {},
   "outputs": [
    {
     "data": {
      "text/plain": [
       "(10000,)"
      ]
     },
     "execution_count": 387,
     "metadata": {},
     "output_type": "execute_result"
    }
   ],
   "source": [
    "y = df['Target']\n",
    "y.shape"
   ]
  },
  {
   "cell_type": "code",
   "execution_count": 388,
   "id": "5f498dad",
   "metadata": {},
   "outputs": [
    {
     "data": {
      "text/plain": [
       "0    9661\n",
       "1     339\n",
       "Name: Target, dtype: int64"
      ]
     },
     "execution_count": 388,
     "metadata": {},
     "output_type": "execute_result"
    }
   ],
   "source": [
    "y.value_counts()"
   ]
  },
  {
   "cell_type": "markdown",
   "id": "3ac49c63",
   "metadata": {},
   "source": [
    "### As the target variable is highly imbalanced, we'll use SMOTE method to balance the target variable"
   ]
  },
  {
   "cell_type": "code",
   "execution_count": 389,
   "id": "dc557702",
   "metadata": {},
   "outputs": [],
   "source": [
    "from imblearn.over_sampling import SMOTE\n",
    "smote = SMOTE()"
   ]
  },
  {
   "cell_type": "code",
   "execution_count": 390,
   "id": "282d8231",
   "metadata": {},
   "outputs": [],
   "source": [
    "X, y = smote.fit_resample(X, y)"
   ]
  },
  {
   "cell_type": "code",
   "execution_count": 391,
   "id": "77b78695",
   "metadata": {},
   "outputs": [
    {
     "data": {
      "text/plain": [
       "0    9661\n",
       "1    9661\n",
       "Name: Target, dtype: int64"
      ]
     },
     "execution_count": 391,
     "metadata": {},
     "output_type": "execute_result"
    }
   ],
   "source": [
    "y.value_counts() "
   ]
  },
  {
   "cell_type": "code",
   "execution_count": 392,
   "id": "90f538fe",
   "metadata": {},
   "outputs": [],
   "source": [
    "from sklearn.model_selection import train_test_split\n",
    "from sklearn import metrics\n",
    "X_train, X_test, y_train, y_test = train_test_split(X, y, test_size=0.20, random_state=42)"
   ]
  },
  {
   "cell_type": "code",
   "execution_count": 393,
   "id": "724c9ec0",
   "metadata": {},
   "outputs": [
    {
     "name": "stdout",
     "output_type": "stream",
     "text": [
      "Random Forest accuracy: 0.9746442432082795 \n",
      "\n",
      "Confusion_matrix:\n",
      "\n",
      "[[1863   71]\n",
      " [  27 1904]]\n",
      "\n",
      "              precision    recall  f1-score   support\n",
      "\n",
      "           0       0.99      0.96      0.97      1934\n",
      "           1       0.96      0.99      0.97      1931\n",
      "\n",
      "    accuracy                           0.97      3865\n",
      "   macro avg       0.97      0.97      0.97      3865\n",
      "weighted avg       0.97      0.97      0.97      3865\n",
      "\n"
     ]
    }
   ],
   "source": [
    "from sklearn.ensemble import RandomForestClassifier\n",
    "rfc = RandomForestClassifier(n_estimators=5) \n",
    "rfc.fit(X_train,y_train)\n",
    "prediction_rfc = rfc.predict(X_test)\n",
    "rfc.score(X_test,y_test)\n",
    "print(\"Random Forest accuracy: {} \".format(rfc.score(X_test,y_test)))\n",
    "print(\"\")\n",
    "print(\"Confusion_matrix:\")\n",
    "print(\"\")\n",
    "from sklearn.metrics import classification_report,confusion_matrix\n",
    "print(confusion_matrix(y_test,prediction_rfc))\n",
    "print(\"\")\n",
    "print(classification_report(y_test,prediction_rfc))"
   ]
  },
  {
   "cell_type": "code",
   "execution_count": 394,
   "id": "b6557cfd",
   "metadata": {},
   "outputs": [],
   "source": [
    "from sklearn.model_selection import ShuffleSplit\n",
    "from sklearn.model_selection import cross_val_score"
   ]
  },
  {
   "cell_type": "code",
   "execution_count": 395,
   "id": "588845b7",
   "metadata": {},
   "outputs": [
    {
     "data": {
      "text/plain": [
       "0.9718691782239702"
      ]
     },
     "execution_count": 395,
     "metadata": {},
     "output_type": "execute_result"
    }
   ],
   "source": [
    "cv = ShuffleSplit(n_splits=10,test_size=0.25, random_state=42)\n",
    "rfc_val = cross_val_score(rfc,X,y,cv=cv)\n",
    "rfc_accuracy = np.mean(abs(rfc_val))\n",
    "rfc_accuracy"
   ]
  },
  {
   "cell_type": "markdown",
   "id": "6957a5c8",
   "metadata": {},
   "source": [
    "### We'll compare the results with different algorithms "
   ]
  },
  {
   "cell_type": "code",
   "execution_count": 396,
   "id": "81395b74",
   "metadata": {},
   "outputs": [],
   "source": [
    "from sklearn.linear_model import LogisticRegression\n",
    "from sklearn.tree import DecisionTreeClassifier\n",
    "from sklearn.ensemble import RandomForestClassifier\n",
    "from sklearn.ensemble import ExtraTreesClassifier\n",
    "from sklearn.neighbors import KNeighborsClassifier\n",
    "from sklearn.svm import SVC\n",
    "from sklearn.ensemble import BaggingClassifier\n",
    "from sklearn.ensemble import GradientBoostingClassifier\n",
    "import lightgbm as lgb\n",
    "from sklearn.naive_bayes import GaussianNB\n",
    "import lightgbm as lgb\n",
    "from lightgbm import LGBMClassifier\n",
    "from xgboost import XGBClassifier\n",
    "\n",
    "ModelLR = LogisticRegression()\n",
    "ModelRF = RandomForestClassifier(n_estimators=5)\n",
    "ModelKNN = KNeighborsClassifier(n_neighbors=5)\n",
    "ModelLGB = lgb.LGBMClassifier()\n",
    "ModelGNB = GaussianNB()\n",
    "ModelXGB = XGBClassifier()"
   ]
  },
  {
   "cell_type": "code",
   "execution_count": 397,
   "id": "3c7bb4e5",
   "metadata": {},
   "outputs": [],
   "source": [
    "MM = [ModelLR, ModelRF,ModelKNN,ModelLGB,ModelGNB,ModelXGB]\n",
    "score_test_list = []\n",
    "score_train_list = []\n",
    "recall_list = [] \n",
    "precision_list = []\n",
    "f1Score_list = []\n",
    "accuracy_list = []\n",
    "\n",
    "for models in MM:\n",
    "    models.fit(X_train, y_train)\n",
    "    score_train = models.score(X_train,y_train)\n",
    "    score_test = models.score(X_test,y_test)\n",
    "\n",
    "     \n",
    "    \n",
    "    # Prediction\n",
    "    \n",
    "    y_pred = models.predict(X_test)\n",
    "    y_pred_prob = models.predict_proba(X_test)\n",
    "    \n",
    "    \n",
    "     # confusion matrix in sklearn\n",
    "\n",
    "    from sklearn.metrics import confusion_matrix\n",
    "    from sklearn.metrics import classification_report\n",
    "\n",
    "    # actual values\n",
    "\n",
    "    actual = y_test\n",
    "\n",
    "    # predicted values\n",
    "\n",
    "    predicted = y_pred\n",
    "    \n",
    "    # confusion matrix\n",
    "\n",
    "    matrix = confusion_matrix(actual,predicted, labels=[1,0],sample_weight=None, normalize=None)\n",
    "\n",
    "    \n",
    "    # outcome values order in sklearn\n",
    "\n",
    "    tp, fn, fp, tn = confusion_matrix(actual,predicted,labels=[1,0]).reshape(-1)\n",
    "\n",
    "\n",
    "    # classification report for precision, recall f1-score and accuracy\n",
    "\n",
    "\n",
    "    # calculating the metrics\n",
    "\n",
    "    recall = round(tp/(tp+fn), 3);\n",
    "    specificity = round(tn/(tn+fp), 3);\n",
    "    accuracy = round((tp+tn)/(tp+fp+tn+fn), 3);\n",
    "    precision = round(tp/(tp+fp), 3);\n",
    "    f1Score = round((2*tp/(2*tp + fp + fn)), 3);\n",
    "    \n",
    "    recall_list.append(recall)\n",
    "    accuracy_list.append(accuracy)\n",
    "    precision_list.append(precision)\n",
    "    f1Score_list.append(f1Score)\n",
    "    \n",
    "    score_test_list.append(score_test)\n",
    "    score_train_list.append(score_train)\n",
    "    \n"
   ]
  },
  {
   "cell_type": "code",
   "execution_count": 398,
   "id": "e85ef15a",
   "metadata": {},
   "outputs": [],
   "source": [
    "models = pd.DataFrame({\n",
    "    'Model': ['Logistic Regression', 'Random Forest Classifier', 'KNeighbors Classifier','LGBM Classifier','GaussianNB','XGBClassifier'\n",
    "             ],\n",
    "    \n",
    "    'Score_train': [score_train_list[0], score_train_list[1],score_train_list[2] ,score_train_list[3] ,score_train_list[4],score_train_list[5]   \n",
    "                   ],\n",
    "    'Score_test': [score_test_list[0], score_test_list[1], score_test_list[2] , score_test_list[3] , score_test_list[4] , score_test_list[5]   \n",
    "                   ],\n",
    "    'Recall': [recall_list[0], recall_list[1], recall_list[2], recall_list[3], recall_list[4], recall_list[5] \n",
    "                   ],               \n",
    "\n",
    "    'Precision': [precision_list[0], precision_list[1], precision_list[2], precision_list[3], precision_list[4], precision_list[5] \n",
    "                   ], \n",
    "\n",
    "    'F1 Score': [f1Score_list[0], f1Score_list[1], f1Score_list[2], f1Score_list[3], f1Score_list[4], f1Score_list[5] \n",
    "                   ],\n",
    "\n",
    "})\n"
   ]
  },
  {
   "cell_type": "code",
   "execution_count": 399,
   "id": "cd19f2c2",
   "metadata": {},
   "outputs": [
    {
     "data": {
      "text/html": [
       "<div>\n",
       "<style scoped>\n",
       "    .dataframe tbody tr th:only-of-type {\n",
       "        vertical-align: middle;\n",
       "    }\n",
       "\n",
       "    .dataframe tbody tr th {\n",
       "        vertical-align: top;\n",
       "    }\n",
       "\n",
       "    .dataframe thead th {\n",
       "        text-align: right;\n",
       "    }\n",
       "</style>\n",
       "<table border=\"1\" class=\"dataframe\">\n",
       "  <thead>\n",
       "    <tr style=\"text-align: right;\">\n",
       "      <th></th>\n",
       "      <th>Model</th>\n",
       "      <th>Score_train</th>\n",
       "      <th>Score_test</th>\n",
       "      <th>Recall</th>\n",
       "      <th>Precision</th>\n",
       "      <th>F1 Score</th>\n",
       "    </tr>\n",
       "  </thead>\n",
       "  <tbody>\n",
       "    <tr>\n",
       "      <th>5</th>\n",
       "      <td>XGBClassifier</td>\n",
       "      <td>0.999094</td>\n",
       "      <td>0.988616</td>\n",
       "      <td>0.994</td>\n",
       "      <td>0.984</td>\n",
       "      <td>0.989</td>\n",
       "    </tr>\n",
       "    <tr>\n",
       "      <th>1</th>\n",
       "      <td>Random Forest Classifier</td>\n",
       "      <td>0.996959</td>\n",
       "      <td>0.973351</td>\n",
       "      <td>0.987</td>\n",
       "      <td>0.961</td>\n",
       "      <td>0.974</td>\n",
       "    </tr>\n",
       "    <tr>\n",
       "      <th>3</th>\n",
       "      <td>LGBM Classifier</td>\n",
       "      <td>0.993983</td>\n",
       "      <td>0.983441</td>\n",
       "      <td>0.992</td>\n",
       "      <td>0.975</td>\n",
       "      <td>0.984</td>\n",
       "    </tr>\n",
       "    <tr>\n",
       "      <th>2</th>\n",
       "      <td>KNeighbors Classifier</td>\n",
       "      <td>0.950184</td>\n",
       "      <td>0.944631</td>\n",
       "      <td>0.984</td>\n",
       "      <td>0.912</td>\n",
       "      <td>0.947</td>\n",
       "    </tr>\n",
       "    <tr>\n",
       "      <th>0</th>\n",
       "      <td>Logistic Regression</td>\n",
       "      <td>0.852753</td>\n",
       "      <td>0.861320</td>\n",
       "      <td>0.866</td>\n",
       "      <td>0.858</td>\n",
       "      <td>0.862</td>\n",
       "    </tr>\n",
       "    <tr>\n",
       "      <th>4</th>\n",
       "      <td>GaussianNB</td>\n",
       "      <td>0.841237</td>\n",
       "      <td>0.847865</td>\n",
       "      <td>0.891</td>\n",
       "      <td>0.820</td>\n",
       "      <td>0.854</td>\n",
       "    </tr>\n",
       "  </tbody>\n",
       "</table>\n",
       "</div>"
      ],
      "text/plain": [
       "                      Model  Score_train  Score_test  Recall  Precision  \\\n",
       "5             XGBClassifier     0.999094    0.988616   0.994      0.984   \n",
       "1  Random Forest Classifier     0.996959    0.973351   0.987      0.961   \n",
       "3           LGBM Classifier     0.993983    0.983441   0.992      0.975   \n",
       "2     KNeighbors Classifier     0.950184    0.944631   0.984      0.912   \n",
       "0       Logistic Regression     0.852753    0.861320   0.866      0.858   \n",
       "4                GaussianNB     0.841237    0.847865   0.891      0.820   \n",
       "\n",
       "   F1 Score  \n",
       "5     0.989  \n",
       "1     0.974  \n",
       "3     0.984  \n",
       "2     0.947  \n",
       "0     0.862  \n",
       "4     0.854  "
      ]
     },
     "execution_count": 399,
     "metadata": {},
     "output_type": "execute_result"
    }
   ],
   "source": [
    "models.sort_values(by=['Score_train', 'Score_test'], ascending=False)"
   ]
  },
  {
   "cell_type": "code",
   "execution_count": 400,
   "id": "5c13c9e6",
   "metadata": {},
   "outputs": [
    {
     "data": {
      "text/html": [
       "<div>\n",
       "<style scoped>\n",
       "    .dataframe tbody tr th:only-of-type {\n",
       "        vertical-align: middle;\n",
       "    }\n",
       "\n",
       "    .dataframe tbody tr th {\n",
       "        vertical-align: top;\n",
       "    }\n",
       "\n",
       "    .dataframe thead th {\n",
       "        text-align: right;\n",
       "    }\n",
       "</style>\n",
       "<table border=\"1\" class=\"dataframe\">\n",
       "  <thead>\n",
       "    <tr style=\"text-align: right;\">\n",
       "      <th></th>\n",
       "      <th>Model</th>\n",
       "      <th>Score_train</th>\n",
       "      <th>Score_test</th>\n",
       "      <th>Recall</th>\n",
       "      <th>Precision</th>\n",
       "      <th>F1 Score</th>\n",
       "      <th>Score_diff</th>\n",
       "    </tr>\n",
       "  </thead>\n",
       "  <tbody>\n",
       "    <tr>\n",
       "      <th>2</th>\n",
       "      <td>KNeighbors Classifier</td>\n",
       "      <td>0.950184</td>\n",
       "      <td>0.944631</td>\n",
       "      <td>0.984</td>\n",
       "      <td>0.912</td>\n",
       "      <td>0.947</td>\n",
       "      <td>0.005553</td>\n",
       "    </tr>\n",
       "    <tr>\n",
       "      <th>4</th>\n",
       "      <td>GaussianNB</td>\n",
       "      <td>0.841237</td>\n",
       "      <td>0.847865</td>\n",
       "      <td>0.891</td>\n",
       "      <td>0.820</td>\n",
       "      <td>0.854</td>\n",
       "      <td>0.006628</td>\n",
       "    </tr>\n",
       "    <tr>\n",
       "      <th>0</th>\n",
       "      <td>Logistic Regression</td>\n",
       "      <td>0.852753</td>\n",
       "      <td>0.861320</td>\n",
       "      <td>0.866</td>\n",
       "      <td>0.858</td>\n",
       "      <td>0.862</td>\n",
       "      <td>0.008567</td>\n",
       "    </tr>\n",
       "    <tr>\n",
       "      <th>5</th>\n",
       "      <td>XGBClassifier</td>\n",
       "      <td>0.999094</td>\n",
       "      <td>0.988616</td>\n",
       "      <td>0.994</td>\n",
       "      <td>0.984</td>\n",
       "      <td>0.989</td>\n",
       "      <td>0.010478</td>\n",
       "    </tr>\n",
       "    <tr>\n",
       "      <th>3</th>\n",
       "      <td>LGBM Classifier</td>\n",
       "      <td>0.993983</td>\n",
       "      <td>0.983441</td>\n",
       "      <td>0.992</td>\n",
       "      <td>0.975</td>\n",
       "      <td>0.984</td>\n",
       "      <td>0.010542</td>\n",
       "    </tr>\n",
       "    <tr>\n",
       "      <th>1</th>\n",
       "      <td>Random Forest Classifier</td>\n",
       "      <td>0.996959</td>\n",
       "      <td>0.973351</td>\n",
       "      <td>0.987</td>\n",
       "      <td>0.961</td>\n",
       "      <td>0.974</td>\n",
       "      <td>0.023609</td>\n",
       "    </tr>\n",
       "  </tbody>\n",
       "</table>\n",
       "</div>"
      ],
      "text/plain": [
       "                      Model  Score_train  Score_test  Recall  Precision  \\\n",
       "2     KNeighbors Classifier     0.950184    0.944631   0.984      0.912   \n",
       "4                GaussianNB     0.841237    0.847865   0.891      0.820   \n",
       "0       Logistic Regression     0.852753    0.861320   0.866      0.858   \n",
       "5             XGBClassifier     0.999094    0.988616   0.994      0.984   \n",
       "3           LGBM Classifier     0.993983    0.983441   0.992      0.975   \n",
       "1  Random Forest Classifier     0.996959    0.973351   0.987      0.961   \n",
       "\n",
       "   F1 Score  Score_diff  \n",
       "2     0.947    0.005553  \n",
       "4     0.854    0.006628  \n",
       "0     0.862    0.008567  \n",
       "5     0.989    0.010478  \n",
       "3     0.984    0.010542  \n",
       "1     0.974    0.023609  "
      ]
     },
     "execution_count": 400,
     "metadata": {},
     "output_type": "execute_result"
    }
   ],
   "source": [
    "models['Score_diff'] = abs(models['Score_train'] - models['Score_test'])\n",
    "models.sort_values(by=['Score_diff'], ascending=True)"
   ]
  },
  {
   "cell_type": "code",
   "execution_count": 401,
   "id": "bfcc5bc6",
   "metadata": {},
   "outputs": [],
   "source": [
    "### Create a Pickle file using serialization. We'll use rfc model.\n",
    "import pickle\n",
    "pickle_out = open(\"rfc.pkl\",\"wb\")\n",
    "pickle.dump(rfc, pickle_out)\n",
    "pickle_out.close()"
   ]
  },
  {
   "cell_type": "markdown",
   "id": "e0a3eaba",
   "metadata": {},
   "source": [
    "# Analysis2 Failure Type as a Target Variable(Multi class classification)"
   ]
  },
  {
   "cell_type": "code",
   "execution_count": 402,
   "id": "f6d77394",
   "metadata": {},
   "outputs": [
    {
     "data": {
      "text/plain": [
       "No Failure                  9652\n",
       "Heat Dissipation Failure     112\n",
       "Power Failure                 95\n",
       "Overstrain Failure            78\n",
       "Tool Wear Failure             45\n",
       "Random Failures               18\n",
       "Name: Failure_Type, dtype: int64"
      ]
     },
     "execution_count": 402,
     "metadata": {},
     "output_type": "execute_result"
    }
   ],
   "source": [
    "df['Failure_Type'].value_counts()"
   ]
  },
  {
   "cell_type": "markdown",
   "id": "a29fed4c",
   "metadata": {},
   "source": [
    "Note- We have random failures in dataset which we can not predict, hence we shall remove these datapoints "
   ]
  },
  {
   "cell_type": "code",
   "execution_count": 403,
   "id": "e1c3b5ad",
   "metadata": {},
   "outputs": [
    {
     "data": {
      "text/plain": [
       "1221    Random Failures\n",
       "1302    Random Failures\n",
       "1748    Random Failures\n",
       "2072    Random Failures\n",
       "2559    Random Failures\n",
       "3065    Random Failures\n",
       "3452    Random Failures\n",
       "5471    Random Failures\n",
       "5489    Random Failures\n",
       "5495    Random Failures\n",
       "5509    Random Failures\n",
       "5553    Random Failures\n",
       "5639    Random Failures\n",
       "6091    Random Failures\n",
       "6913    Random Failures\n",
       "6960    Random Failures\n",
       "7488    Random Failures\n",
       "7868    Random Failures\n",
       "Name: Failure_Type, dtype: object"
      ]
     },
     "execution_count": 403,
     "metadata": {},
     "output_type": "execute_result"
    }
   ],
   "source": [
    "idx_RNF = df.loc[df['Failure_Type']=='Random Failures'].index\n",
    "df.loc[idx_RNF,'Failure_Type']"
   ]
  },
  {
   "cell_type": "code",
   "execution_count": 404,
   "id": "1c49fa14",
   "metadata": {},
   "outputs": [],
   "source": [
    "df_without_RF = df[df['Failure_Type']!='Random Failures']"
   ]
  },
  {
   "cell_type": "code",
   "execution_count": 405,
   "id": "3e23551c",
   "metadata": {},
   "outputs": [
    {
     "data": {
      "text/plain": [
       "(9982,)"
      ]
     },
     "execution_count": 405,
     "metadata": {},
     "output_type": "execute_result"
    }
   ],
   "source": [
    "y = df_without_RF['Failure_Type']\n",
    "y.shape"
   ]
  },
  {
   "cell_type": "code",
   "execution_count": 406,
   "id": "d104522f",
   "metadata": {},
   "outputs": [
    {
     "data": {
      "text/plain": [
       "No Failure                  9652\n",
       "Heat Dissipation Failure     112\n",
       "Power Failure                 95\n",
       "Overstrain Failure            78\n",
       "Tool Wear Failure             45\n",
       "Name: Failure_Type, dtype: int64"
      ]
     },
     "execution_count": 406,
     "metadata": {},
     "output_type": "execute_result"
    }
   ],
   "source": [
    "y.value_counts() "
   ]
  },
  {
   "cell_type": "code",
   "execution_count": 407,
   "id": "f9c266d9",
   "metadata": {},
   "outputs": [
    {
     "data": {
      "text/html": [
       "<div>\n",
       "<style scoped>\n",
       "    .dataframe tbody tr th:only-of-type {\n",
       "        vertical-align: middle;\n",
       "    }\n",
       "\n",
       "    .dataframe tbody tr th {\n",
       "        vertical-align: top;\n",
       "    }\n",
       "\n",
       "    .dataframe thead th {\n",
       "        text-align: right;\n",
       "    }\n",
       "</style>\n",
       "<table border=\"1\" class=\"dataframe\">\n",
       "  <thead>\n",
       "    <tr style=\"text-align: right;\">\n",
       "      <th></th>\n",
       "      <th>Air_temperature_K</th>\n",
       "      <th>Process_temperature_K</th>\n",
       "      <th>Rotational_speed_rpm</th>\n",
       "      <th>Torque_Nm</th>\n",
       "      <th>Tool_wear_min</th>\n",
       "      <th>Type_L</th>\n",
       "      <th>Type_M</th>\n",
       "    </tr>\n",
       "  </thead>\n",
       "  <tbody>\n",
       "    <tr>\n",
       "      <th>0</th>\n",
       "      <td>298.1</td>\n",
       "      <td>308.6</td>\n",
       "      <td>1551</td>\n",
       "      <td>42.8</td>\n",
       "      <td>0</td>\n",
       "      <td>0</td>\n",
       "      <td>1</td>\n",
       "    </tr>\n",
       "    <tr>\n",
       "      <th>1</th>\n",
       "      <td>298.2</td>\n",
       "      <td>308.7</td>\n",
       "      <td>1408</td>\n",
       "      <td>46.3</td>\n",
       "      <td>3</td>\n",
       "      <td>1</td>\n",
       "      <td>0</td>\n",
       "    </tr>\n",
       "    <tr>\n",
       "      <th>2</th>\n",
       "      <td>298.1</td>\n",
       "      <td>308.5</td>\n",
       "      <td>1498</td>\n",
       "      <td>49.4</td>\n",
       "      <td>5</td>\n",
       "      <td>1</td>\n",
       "      <td>0</td>\n",
       "    </tr>\n",
       "    <tr>\n",
       "      <th>3</th>\n",
       "      <td>298.2</td>\n",
       "      <td>308.6</td>\n",
       "      <td>1433</td>\n",
       "      <td>39.5</td>\n",
       "      <td>7</td>\n",
       "      <td>1</td>\n",
       "      <td>0</td>\n",
       "    </tr>\n",
       "    <tr>\n",
       "      <th>4</th>\n",
       "      <td>298.2</td>\n",
       "      <td>308.7</td>\n",
       "      <td>1408</td>\n",
       "      <td>40.0</td>\n",
       "      <td>9</td>\n",
       "      <td>1</td>\n",
       "      <td>0</td>\n",
       "    </tr>\n",
       "  </tbody>\n",
       "</table>\n",
       "</div>"
      ],
      "text/plain": [
       "   Air_temperature_K  Process_temperature_K  Rotational_speed_rpm  Torque_Nm  \\\n",
       "0              298.1                  308.6                  1551       42.8   \n",
       "1              298.2                  308.7                  1408       46.3   \n",
       "2              298.1                  308.5                  1498       49.4   \n",
       "3              298.2                  308.6                  1433       39.5   \n",
       "4              298.2                  308.7                  1408       40.0   \n",
       "\n",
       "   Tool_wear_min  Type_L  Type_M  \n",
       "0              0       0       1  \n",
       "1              3       1       0  \n",
       "2              5       1       0  \n",
       "3              7       1       0  \n",
       "4              9       1       0  "
      ]
     },
     "execution_count": 407,
     "metadata": {},
     "output_type": "execute_result"
    }
   ],
   "source": [
    "X = df_without_RF.drop(['Target','Failure_Type'],axis=1)\n",
    "  \n",
    "X.head()"
   ]
  },
  {
   "cell_type": "code",
   "execution_count": 408,
   "id": "5875c3b8",
   "metadata": {},
   "outputs": [],
   "source": [
    "X, y = smote.fit_resample(X, y) # Again using SMOTE method to balance the failure types in the dataset"
   ]
  },
  {
   "cell_type": "code",
   "execution_count": 409,
   "id": "b4da4110",
   "metadata": {},
   "outputs": [
    {
     "data": {
      "text/plain": [
       "No Failure                  9652\n",
       "Power Failure               9652\n",
       "Tool Wear Failure           9652\n",
       "Overstrain Failure          9652\n",
       "Heat Dissipation Failure    9652\n",
       "Name: Failure_Type, dtype: int64"
      ]
     },
     "execution_count": 409,
     "metadata": {},
     "output_type": "execute_result"
    }
   ],
   "source": [
    "y.value_counts() "
   ]
  },
  {
   "cell_type": "code",
   "execution_count": 410,
   "id": "7e0ffc0f",
   "metadata": {},
   "outputs": [],
   "source": [
    "from sklearn.model_selection import train_test_split\n",
    "from sklearn import metrics\n",
    "X_train, X_test, y_train, y_test = train_test_split(X, y, test_size=0.20, random_state=42)"
   ]
  },
  {
   "cell_type": "code",
   "execution_count": 411,
   "id": "782b7c39",
   "metadata": {},
   "outputs": [
    {
     "name": "stdout",
     "output_type": "stream",
     "text": [
      "Random Forest accuracy: 0.9940944881889764 \n",
      "\n",
      "Confusion_matrix:\n",
      "\n",
      "[[1872    4    1    0    0]\n",
      " [   9 1910    5    5   26]\n",
      " [   0    0 1938    0    0]\n",
      " [   0    3    0 1982    0]\n",
      " [   0    4    0    0 1893]]\n",
      "\n",
      "                          precision    recall  f1-score   support\n",
      "\n",
      "Heat Dissipation Failure       1.00      1.00      1.00      1877\n",
      "              No Failure       0.99      0.98      0.99      1955\n",
      "      Overstrain Failure       1.00      1.00      1.00      1938\n",
      "           Power Failure       1.00      1.00      1.00      1985\n",
      "       Tool Wear Failure       0.99      1.00      0.99      1897\n",
      "\n",
      "                accuracy                           0.99      9652\n",
      "               macro avg       0.99      0.99      0.99      9652\n",
      "            weighted avg       0.99      0.99      0.99      9652\n",
      "\n"
     ]
    }
   ],
   "source": [
    "from sklearn.ensemble import RandomForestClassifier\n",
    "rfc2 = RandomForestClassifier(n_estimators=5) \n",
    "rfc2.fit(X_train,y_train)\n",
    "prediction_rfc2 = rfc2.predict(X_test)\n",
    "rfc2.score(X_test,y_test)\n",
    "print(\"Random Forest accuracy: {} \".format(rfc2.score(X_test,y_test)))\n",
    "print(\"\")\n",
    "print(\"Confusion_matrix:\")\n",
    "print(\"\")\n",
    "from sklearn.metrics import classification_report,confusion_matrix\n",
    "print(confusion_matrix(y_test,prediction_rfc2))\n",
    "print(\"\")\n",
    "print(classification_report(y_test,prediction_rfc2))"
   ]
  },
  {
   "cell_type": "code",
   "execution_count": 412,
   "id": "596e9b87",
   "metadata": {},
   "outputs": [
    {
     "data": {
      "text/plain": [
       "No Failure                  9652\n",
       "Power Failure               9652\n",
       "Tool Wear Failure           9652\n",
       "Overstrain Failure          9652\n",
       "Heat Dissipation Failure    9652\n",
       "Name: Failure_Type, dtype: int64"
      ]
     },
     "execution_count": 412,
     "metadata": {},
     "output_type": "execute_result"
    }
   ],
   "source": [
    "y.value_counts() "
   ]
  },
  {
   "cell_type": "code",
   "execution_count": 413,
   "id": "d0e2fa72",
   "metadata": {},
   "outputs": [],
   "source": [
    "#Numeric encoding for failure types\n",
    "df_without_RF['Failure_Type'] = df_without_RF['Failure_Type'].replace('No Failure', 0)\n",
    "df_without_RF['Failure_Type'] = df_without_RF['Failure_Type'].replace('Power Failure', 1)\n",
    "df_without_RF['Failure_Type'] = df_without_RF['Failure_Type'].replace('Tool Wear Failure', 2)\n",
    "df_without_RF['Failure_Type'] = df_without_RF['Failure_Type'].replace('Overstrain Failure', 3)\n",
    "df_without_RF['Failure_Type'] = df_without_RF['Failure_Type'].replace('Heat Dissipation Failure', 4)"
   ]
  },
  {
   "cell_type": "code",
   "execution_count": 414,
   "id": "b3964237",
   "metadata": {},
   "outputs": [
    {
     "data": {
      "text/plain": [
       "(9982,)"
      ]
     },
     "execution_count": 414,
     "metadata": {},
     "output_type": "execute_result"
    }
   ],
   "source": [
    "y = df_without_RF['Failure_Type']\n",
    "y.shape"
   ]
  },
  {
   "cell_type": "code",
   "execution_count": 415,
   "id": "f333f103",
   "metadata": {},
   "outputs": [
    {
     "data": {
      "text/plain": [
       "(9982, 7)"
      ]
     },
     "execution_count": 415,
     "metadata": {},
     "output_type": "execute_result"
    }
   ],
   "source": [
    "X = df_without_RF.drop(['Target','Failure_Type'],axis=1)\n",
    "X.shape"
   ]
  },
  {
   "cell_type": "code",
   "execution_count": 416,
   "id": "1d807549",
   "metadata": {},
   "outputs": [],
   "source": [
    "X, y = smote.fit_resample(X, y)"
   ]
  },
  {
   "cell_type": "code",
   "execution_count": 417,
   "id": "e15fedb5",
   "metadata": {},
   "outputs": [],
   "source": [
    "X_train, X_test, y_train, y_test = train_test_split(X, y, test_size=0.20, random_state=42)"
   ]
  },
  {
   "cell_type": "code",
   "execution_count": 418,
   "id": "e32c5dd9",
   "metadata": {},
   "outputs": [
    {
     "name": "stdout",
     "output_type": "stream",
     "text": [
      "[18:36:03] WARNING: C:/Users/administrator/workspace/xgboost-win64_release_1.6.0/src/learner.cc:627: \n",
      "Parameters: { \"scale_pos_weight\" } might not be used.\n",
      "\n",
      "  This could be a false alarm, with some parameters getting used by language bindings but\n",
      "  then being mistakenly passed down to XGBoost core, or some parameter actually being used\n",
      "  but getting flagged wrongly here. Please open an issue if you find any such cases.\n",
      "\n",
      "\n"
     ]
    }
   ],
   "source": [
    "MM = [ModelLR, ModelRF,ModelKNN,ModelLGB,ModelGNB,ModelXGB]\n",
    "score_test_list = []\n",
    "score_train_list = []\n",
    "recall_list = [] \n",
    "precision_list = []\n",
    "f1Score_list = []\n",
    "accuracy_list = []\n",
    "\n",
    "for models in MM:\n",
    "    models.fit(X_train, y_train)\n",
    "    score_train = models.score(X_train,y_train)\n",
    "    score_test = models.score(X_test,y_test)\n",
    "\n",
    "     \n",
    "    \n",
    "    # Prediction\n",
    "    \n",
    "    y_pred = models.predict(X_test)\n",
    "    y_pred_prob = models.predict_proba(X_test)\n",
    "    \n",
    "    \n",
    "     # confusion matrix in sklearn\n",
    "\n",
    "    from sklearn.metrics import confusion_matrix\n",
    "    from sklearn.metrics import classification_report\n",
    "\n",
    "    # actual values\n",
    "\n",
    "    actual = y_test\n",
    "\n",
    "    # predicted values\n",
    "\n",
    "    predicted = y_pred\n",
    "    \n",
    "    # confusion matrix\n",
    "\n",
    "    matrix = confusion_matrix(actual,predicted, labels=[1,0],sample_weight=None, normalize=None)\n",
    "\n",
    "    \n",
    "    # outcome values order in sklearn\n",
    "\n",
    "    tp, fn, fp, tn = confusion_matrix(actual,predicted,labels=[1,0]).reshape(-1)\n",
    "\n",
    "\n",
    "    # classification report for precision, recall f1-score and accuracy\n",
    "\n",
    "\n",
    "    # calculating the metrics\n",
    "\n",
    "    recall = round(tp/(tp+fn), 3);\n",
    "    specificity = round(tn/(tn+fp), 3);\n",
    "    accuracy = round((tp+tn)/(tp+fp+tn+fn), 3);\n",
    "    precision = round(tp/(tp+fp), 3);\n",
    "    f1Score = round((2*tp/(2*tp + fp + fn)), 3);\n",
    "    \n",
    "    recall_list.append(recall)\n",
    "    accuracy_list.append(accuracy)\n",
    "    precision_list.append(precision)\n",
    "    f1Score_list.append(f1Score)\n",
    "    \n",
    "    score_test_list.append(score_test)\n",
    "    score_train_list.append(score_train)\n",
    "    \n"
   ]
  },
  {
   "cell_type": "code",
   "execution_count": 419,
   "id": "d16a906c",
   "metadata": {},
   "outputs": [],
   "source": [
    "models = pd.DataFrame({\n",
    "    'Model': ['Logistic Regression', 'Random Forest Classifier', 'KNeighbors Classifier','LGBM Classifier','GaussianNB','XGBClassifier'\n",
    "             ],\n",
    "    \n",
    "    'Score_train': [score_train_list[0], score_train_list[1],score_train_list[2] ,score_train_list[3] ,score_train_list[4],score_train_list[5]   \n",
    "                   ],\n",
    "    'Score_test': [score_test_list[0], score_test_list[1], score_test_list[2] , score_test_list[3] , score_test_list[4] , score_test_list[5]   \n",
    "                   ],\n",
    "    'Recall': [recall_list[0], recall_list[1], recall_list[2], recall_list[3], recall_list[4], recall_list[5] \n",
    "                   ],               \n",
    "\n",
    "    'Precision': [precision_list[0], precision_list[1], precision_list[2], precision_list[3], precision_list[4], precision_list[5] \n",
    "                   ], \n",
    "\n",
    "    'F1 Score': [f1Score_list[0], f1Score_list[1], f1Score_list[2], f1Score_list[3], f1Score_list[4], f1Score_list[5] \n",
    "                   ],\n",
    "\n",
    "})\n"
   ]
  },
  {
   "cell_type": "code",
   "execution_count": 420,
   "id": "70a2daa6",
   "metadata": {},
   "outputs": [
    {
     "data": {
      "text/html": [
       "<div>\n",
       "<style scoped>\n",
       "    .dataframe tbody tr th:only-of-type {\n",
       "        vertical-align: middle;\n",
       "    }\n",
       "\n",
       "    .dataframe tbody tr th {\n",
       "        vertical-align: top;\n",
       "    }\n",
       "\n",
       "    .dataframe thead th {\n",
       "        text-align: right;\n",
       "    }\n",
       "</style>\n",
       "<table border=\"1\" class=\"dataframe\">\n",
       "  <thead>\n",
       "    <tr style=\"text-align: right;\">\n",
       "      <th></th>\n",
       "      <th>Model</th>\n",
       "      <th>Score_train</th>\n",
       "      <th>Score_test</th>\n",
       "      <th>Recall</th>\n",
       "      <th>Precision</th>\n",
       "      <th>F1 Score</th>\n",
       "    </tr>\n",
       "  </thead>\n",
       "  <tbody>\n",
       "    <tr>\n",
       "      <th>5</th>\n",
       "      <td>XGBClassifier</td>\n",
       "      <td>1.000000</td>\n",
       "      <td>0.995856</td>\n",
       "      <td>0.999</td>\n",
       "      <td>0.998</td>\n",
       "      <td>0.998</td>\n",
       "    </tr>\n",
       "    <tr>\n",
       "      <th>3</th>\n",
       "      <td>LGBM Classifier</td>\n",
       "      <td>1.000000</td>\n",
       "      <td>0.995545</td>\n",
       "      <td>0.999</td>\n",
       "      <td>0.998</td>\n",
       "      <td>0.999</td>\n",
       "    </tr>\n",
       "    <tr>\n",
       "      <th>1</th>\n",
       "      <td>Random Forest Classifier</td>\n",
       "      <td>0.999482</td>\n",
       "      <td>0.992955</td>\n",
       "      <td>0.997</td>\n",
       "      <td>0.995</td>\n",
       "      <td>0.996</td>\n",
       "    </tr>\n",
       "    <tr>\n",
       "      <th>2</th>\n",
       "      <td>KNeighbors Classifier</td>\n",
       "      <td>0.978036</td>\n",
       "      <td>0.972441</td>\n",
       "      <td>0.999</td>\n",
       "      <td>0.989</td>\n",
       "      <td>0.994</td>\n",
       "    </tr>\n",
       "    <tr>\n",
       "      <th>4</th>\n",
       "      <td>GaussianNB</td>\n",
       "      <td>0.872254</td>\n",
       "      <td>0.870597</td>\n",
       "      <td>0.956</td>\n",
       "      <td>0.919</td>\n",
       "      <td>0.937</td>\n",
       "    </tr>\n",
       "    <tr>\n",
       "      <th>0</th>\n",
       "      <td>Logistic Regression</td>\n",
       "      <td>0.865598</td>\n",
       "      <td>0.864588</td>\n",
       "      <td>0.997</td>\n",
       "      <td>0.979</td>\n",
       "      <td>0.988</td>\n",
       "    </tr>\n",
       "  </tbody>\n",
       "</table>\n",
       "</div>"
      ],
      "text/plain": [
       "                      Model  Score_train  Score_test  Recall  Precision  \\\n",
       "5             XGBClassifier     1.000000    0.995856   0.999      0.998   \n",
       "3           LGBM Classifier     1.000000    0.995545   0.999      0.998   \n",
       "1  Random Forest Classifier     0.999482    0.992955   0.997      0.995   \n",
       "2     KNeighbors Classifier     0.978036    0.972441   0.999      0.989   \n",
       "4                GaussianNB     0.872254    0.870597   0.956      0.919   \n",
       "0       Logistic Regression     0.865598    0.864588   0.997      0.979   \n",
       "\n",
       "   F1 Score  \n",
       "5     0.998  \n",
       "3     0.999  \n",
       "1     0.996  \n",
       "2     0.994  \n",
       "4     0.937  \n",
       "0     0.988  "
      ]
     },
     "execution_count": 420,
     "metadata": {},
     "output_type": "execute_result"
    }
   ],
   "source": [
    "models.sort_values(by=['Score_train', 'Score_test'], ascending=False)"
   ]
  },
  {
   "cell_type": "code",
   "execution_count": 421,
   "id": "f1a78362",
   "metadata": {},
   "outputs": [
    {
     "data": {
      "text/html": [
       "<div>\n",
       "<style scoped>\n",
       "    .dataframe tbody tr th:only-of-type {\n",
       "        vertical-align: middle;\n",
       "    }\n",
       "\n",
       "    .dataframe tbody tr th {\n",
       "        vertical-align: top;\n",
       "    }\n",
       "\n",
       "    .dataframe thead th {\n",
       "        text-align: right;\n",
       "    }\n",
       "</style>\n",
       "<table border=\"1\" class=\"dataframe\">\n",
       "  <thead>\n",
       "    <tr style=\"text-align: right;\">\n",
       "      <th></th>\n",
       "      <th>Model</th>\n",
       "      <th>Score_train</th>\n",
       "      <th>Score_test</th>\n",
       "      <th>Recall</th>\n",
       "      <th>Precision</th>\n",
       "      <th>F1 Score</th>\n",
       "      <th>Score_diff</th>\n",
       "    </tr>\n",
       "  </thead>\n",
       "  <tbody>\n",
       "    <tr>\n",
       "      <th>0</th>\n",
       "      <td>Logistic Regression</td>\n",
       "      <td>0.865598</td>\n",
       "      <td>0.864588</td>\n",
       "      <td>0.997</td>\n",
       "      <td>0.979</td>\n",
       "      <td>0.988</td>\n",
       "      <td>0.001010</td>\n",
       "    </tr>\n",
       "    <tr>\n",
       "      <th>4</th>\n",
       "      <td>GaussianNB</td>\n",
       "      <td>0.872254</td>\n",
       "      <td>0.870597</td>\n",
       "      <td>0.956</td>\n",
       "      <td>0.919</td>\n",
       "      <td>0.937</td>\n",
       "      <td>0.001658</td>\n",
       "    </tr>\n",
       "    <tr>\n",
       "      <th>5</th>\n",
       "      <td>XGBClassifier</td>\n",
       "      <td>1.000000</td>\n",
       "      <td>0.995856</td>\n",
       "      <td>0.999</td>\n",
       "      <td>0.998</td>\n",
       "      <td>0.998</td>\n",
       "      <td>0.004144</td>\n",
       "    </tr>\n",
       "    <tr>\n",
       "      <th>3</th>\n",
       "      <td>LGBM Classifier</td>\n",
       "      <td>1.000000</td>\n",
       "      <td>0.995545</td>\n",
       "      <td>0.999</td>\n",
       "      <td>0.998</td>\n",
       "      <td>0.999</td>\n",
       "      <td>0.004455</td>\n",
       "    </tr>\n",
       "    <tr>\n",
       "      <th>2</th>\n",
       "      <td>KNeighbors Classifier</td>\n",
       "      <td>0.978036</td>\n",
       "      <td>0.972441</td>\n",
       "      <td>0.999</td>\n",
       "      <td>0.989</td>\n",
       "      <td>0.994</td>\n",
       "      <td>0.005595</td>\n",
       "    </tr>\n",
       "    <tr>\n",
       "      <th>1</th>\n",
       "      <td>Random Forest Classifier</td>\n",
       "      <td>0.999482</td>\n",
       "      <td>0.992955</td>\n",
       "      <td>0.997</td>\n",
       "      <td>0.995</td>\n",
       "      <td>0.996</td>\n",
       "      <td>0.006527</td>\n",
       "    </tr>\n",
       "  </tbody>\n",
       "</table>\n",
       "</div>"
      ],
      "text/plain": [
       "                      Model  Score_train  Score_test  Recall  Precision  \\\n",
       "0       Logistic Regression     0.865598    0.864588   0.997      0.979   \n",
       "4                GaussianNB     0.872254    0.870597   0.956      0.919   \n",
       "5             XGBClassifier     1.000000    0.995856   0.999      0.998   \n",
       "3           LGBM Classifier     1.000000    0.995545   0.999      0.998   \n",
       "2     KNeighbors Classifier     0.978036    0.972441   0.999      0.989   \n",
       "1  Random Forest Classifier     0.999482    0.992955   0.997      0.995   \n",
       "\n",
       "   F1 Score  Score_diff  \n",
       "0     0.988    0.001010  \n",
       "4     0.937    0.001658  \n",
       "5     0.998    0.004144  \n",
       "3     0.999    0.004455  \n",
       "2     0.994    0.005595  \n",
       "1     0.996    0.006527  "
      ]
     },
     "execution_count": 421,
     "metadata": {},
     "output_type": "execute_result"
    }
   ],
   "source": [
    "models['Score_diff'] = abs(models['Score_train'] - models['Score_test'])\n",
    "models.sort_values(by=['Score_diff'], ascending=True)"
   ]
  },
  {
   "cell_type": "code",
   "execution_count": 422,
   "id": "6af6da90",
   "metadata": {},
   "outputs": [],
   "source": [
    "### Create a Pickle file using serialization. We'll use Random Forest model.\n",
    "import pickle\n",
    "pickle_out = open(\"rfc2.pkl\",\"wb\")\n",
    "pickle.dump(rfc2, pickle_out)\n",
    "pickle_out.close()"
   ]
  }
 ],
 "metadata": {
  "kernelspec": {
   "display_name": "Python 3 (ipykernel)",
   "language": "python",
   "name": "python3"
  },
  "language_info": {
   "codemirror_mode": {
    "name": "ipython",
    "version": 3
   },
   "file_extension": ".py",
   "mimetype": "text/x-python",
   "name": "python",
   "nbconvert_exporter": "python",
   "pygments_lexer": "ipython3",
   "version": "3.9.12"
  }
 },
 "nbformat": 4,
 "nbformat_minor": 5
}
